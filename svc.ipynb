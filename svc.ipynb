{
 "cells": [
  {
   "cell_type": "markdown",
   "id": "initial_id",
   "metadata": {
    "collapsed": true
   },
   "source": [
    "<h1 align=center>SVC</h1>\n",
    "\n",
    "---"
   ]
  },
  {
   "cell_type": "code",
   "id": "c57ca9ee",
   "metadata": {
    "ExecuteTime": {
     "end_time": "2024-11-20T07:23:59.498597Z",
     "start_time": "2024-11-20T07:23:59.495616Z"
    }
   },
   "source": [
    "import os #type: ignore\n",
    "import json #type: ignore\n",
    "import numpy as np #type: ignore\n",
    "import pandas as pd #type: ignore\n",
    "from sklearn.svm import SVC #type: ignore\n",
    "from sklearn.model_selection import train_test_split #type: ignore\n",
    "from sklearn.metrics import classification_report, accuracy_score #type: ignore\n"
   ],
   "outputs": [],
   "execution_count": 46
  },
  {
   "cell_type": "code",
   "id": "1cc1d4c0",
   "metadata": {
    "ExecuteTime": {
     "end_time": "2024-11-20T07:23:59.605179Z",
     "start_time": "2024-11-20T07:23:59.515824Z"
    }
   },
   "source": [
    "# Load dataset\n",
    "def load_dataset(folder):\n",
    "    \"\"\"\n",
    "    Loads the dataset and flattens input-output image pairs.\n",
    "    \"\"\"\n",
    "    X, y = [], []\n",
    "    for fname in os.listdir(folder):\n",
    "        if fname.endswith(\".json\"):\n",
    "            # Load input-output data\n",
    "            with open(os.path.join(folder, fname), \"r\") as f:\n",
    "                data = json.load(f)\n",
    "\n",
    "            for sample in data:\n",
    "                inp_img = np.array(sample[\"input\"]).flatten()\n",
    "                out_img = np.array(sample[\"output\"]).flatten()\n",
    "                X.append(np.concatenate([inp_img, out_img]))\n",
    "\n",
    "                # Load solution file\n",
    "                soln_fname = fname.replace(\".json\", \"_soln.txt\")\n",
    "                with open(os.path.join(folder, soln_fname), \"r\") as f:\n",
    "                    se_indices = [int(line.split(\"SE\")[1]) - 1 for line in f][:4]\n",
    "                y.append(se_indices)\n",
    "\n",
    "    # Flatten labels to make it one-vs-one classification\n",
    "    return np.array(X), np.array(y)\n",
    "\n",
    "# Prepare data\n",
    "dataset_folder = \"CatA_Simple\"\n",
    "X, y = load_dataset(dataset_folder)\n"
   ],
   "outputs": [],
   "execution_count": 47
  },
  {
   "cell_type": "code",
   "id": "278c5510",
   "metadata": {
    "ExecuteTime": {
     "end_time": "2024-11-20T07:23:59.611847Z",
     "start_time": "2024-11-20T07:23:59.608690Z"
    }
   },
   "source": [
    "X_df = pd.DataFrame(X)\n",
    "y_df = pd.DataFrame(y)"
   ],
   "outputs": [],
   "execution_count": 48
  },
  {
   "cell_type": "code",
   "id": "6f4b6a15",
   "metadata": {
    "ExecuteTime": {
     "end_time": "2024-11-20T07:23:59.631486Z",
     "start_time": "2024-11-20T07:23:59.625542Z"
    }
   },
   "source": [
    "# Train-test split\n",
    "X_train, X_test, y_train, y_test = train_test_split(X, y, test_size=0.2, random_state=42)\n",
    "X_train.shape, X_test.shape, y_train.shape, y_test.shape\n"
   ],
   "outputs": [
    {
     "data": {
      "text/plain": [
       "((320, 450), (80, 450), (320, 4), (80, 4))"
      ]
     },
     "execution_count": 49,
     "metadata": {},
     "output_type": "execute_result"
    }
   ],
   "execution_count": 49
  },
  {
   "cell_type": "code",
   "id": "9754cd11",
   "metadata": {
    "ExecuteTime": {
     "end_time": "2024-11-20T07:23:59.754795Z",
     "start_time": "2024-11-20T07:23:59.661409Z"
    }
   },
   "source": [
    "# Train an SVC model for each SE position\n",
    "models = []\n",
    "for i in range(y.shape[1]):  # One model for each SE in the sequence\n",
    "    svc = SVC(kernel=\"linear\", random_state=42)\n",
    "    svc.fit(X_train, y_train[:, i])\n",
    "    models.append(svc)\n",
    "\n",
    "# Evaluate the models\n",
    "y_pred = np.zeros_like(y_test)\n",
    "for i, svc in enumerate(models):\n",
    "    y_pred[:, i] = svc.predict(X_test)\n",
    "\n",
    "# Accuracy and classification report\n",
    "accuracy = accuracy_score(y_test.flatten(), y_pred.flatten())\n",
    "print(f\"Overall Accuracy: {accuracy*100:.2f}%\")\n",
    "print(classification_report(y_test.flatten(), y_pred.flatten()))\n"
   ],
   "outputs": [
    {
     "name": "stdout",
     "output_type": "stream",
     "text": [
      "Overall Accuracy: 22.50%\n",
      "              precision    recall  f1-score   support\n",
      "\n",
      "           0       0.14      0.18      0.16        44\n",
      "           1       0.21      0.16      0.18        43\n",
      "           2       0.19      0.13      0.15        31\n",
      "           3       0.15      0.18      0.17        38\n",
      "           4       0.28      0.32      0.30        34\n",
      "           5       0.22      0.18      0.20        39\n",
      "           6       0.33      0.35      0.34        48\n",
      "           7       0.29      0.26      0.27        43\n",
      "\n",
      "    accuracy                           0.23       320\n",
      "   macro avg       0.23      0.22      0.22       320\n",
      "weighted avg       0.23      0.23      0.22       320\n",
      "\n"
     ]
    }
   ],
   "execution_count": 50
  }
 ],
 "metadata": {
  "kernelspec": {
   "display_name": "DL2",
   "language": "python",
   "name": "python3"
  },
  "language_info": {
   "codemirror_mode": {
    "name": "ipython",
    "version": 3
   },
   "file_extension": ".py",
   "mimetype": "text/x-python",
   "name": "python",
   "nbconvert_exporter": "python",
   "pygments_lexer": "ipython3",
   "version": "3.10.12"
  }
 },
 "nbformat": 4,
 "nbformat_minor": 5
}
