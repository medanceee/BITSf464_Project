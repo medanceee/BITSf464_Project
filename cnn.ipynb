{
 "cells": [
  {
   "cell_type": "markdown",
   "metadata": {},
   "source": "<h1>SVC vs CNN</h1>"
  },
  {
   "cell_type": "code",
   "metadata": {
    "ExecuteTime": {
     "end_time": "2024-11-20T16:29:02.267420Z",
     "start_time": "2024-11-20T16:29:02.263361Z"
    }
   },
   "source": [
    "import os #type: ignore\n",
    "import json #type: ignore\n",
    "import torch #type: ignore\n",
    "import numpy as np #type: ignore\n",
    "import torch.nn as nn #type: ignore\n",
    "import seaborn as sns #type: ignore\n",
    "import torch.optim as optim #type: ignore\n",
    "import matplotlib.pyplot as plt #type: ignore\n",
    "\n",
    "from icecream import ic #type: ignore\n",
    "from torch.utils.data import Dataset, DataLoader #type: ignore\n",
    "from sklearn.model_selection import train_test_split #type: ignore\n",
    "\n",
    "device = 'cpu'\n",
    "\n",
    "# Hyperparameters\n",
    "IMG_SIZE = 15\n",
    "NUM_SE = 8\n",
    "BATCH_SIZE = 16\n",
    "EPOCHS= 50\n",
    "SEQ_LENGTH = 4\n",
    "LEARNING_RATE = 0.001\n"
   ],
   "outputs": [],
   "execution_count": 21
  },
  {
   "cell_type": "markdown",
   "metadata": {},
   "source": [
    "<h1>Data</h1>\n",
    "\n",
    "---"
   ]
  },
  {
   "cell_type": "code",
   "metadata": {
    "ExecuteTime": {
     "end_time": "2024-11-20T16:29:02.278326Z",
     "start_time": "2024-11-20T16:29:02.272427Z"
    }
   },
   "source": [
    "# Dataset Class\n",
    "class MorphologyDataset(torch.utils.data.Dataset):\n",
    "    def __init__(self, data_dir):\n",
    "        self.data = []\n",
    "        self.labels = []\n",
    "        self.load_data(data_dir)\n",
    "\n",
    "    def load_data(self, data_dir):\n",
    "        for fname in os.listdir(data_dir):\n",
    "            if fname.endswith(\".json\"):\n",
    "                with open(os.path.join(data_dir, fname), 'r') as f:\n",
    "                    task_data = json.load(f)\n",
    "                with open(os.path.join(data_dir, fname.replace(\".json\", \"_soln.txt\")), 'r') as f:\n",
    "                    lines = f.readlines()\n",
    "                labels = [int(line.split(\"SE\")[-1]) - 1 for line in lines[:4]]\n",
    "                for pair in task_data:\n",
    "                    inp = np.array(pair['input'])\n",
    "                    out = np.array(pair['output'])\n",
    "                    self.data.append(np.stack([inp, out], axis=0))\n",
    "                    self.labels.append(labels)\n",
    "\n",
    "    def __len__(self):\n",
    "        return len(self.data)\n",
    "\n",
    "    def __getitem__(self, idx):\n",
    "        x = self.data[idx].astype(np.float32)\n",
    "        y = np.array(self.labels[idx]).astype(np.int64)  # Sequence of SE indices\n",
    "        return torch.tensor(x), torch.tensor(y)\n",
    "\n",
    "    def split_dataset(self, test_size=0.2, random_state=None):\n",
    "        \"\"\"\n",
    "        Split the dataset into training and testing sets.\n",
    "\n",
    "        :param test_size: Fraction of the dataset to be used as the test set.\n",
    "        :param random_state: Random seed for reproducibility.\n",
    "        :return: Training and Testing Dataset objects.\n",
    "        \"\"\"\n",
    "        # Use sklearn's train_test_split to split the indices\n",
    "        indices = np.arange(len(self.data))\n",
    "        train_indices, test_indices = train_test_split(indices, test_size=test_size, random_state=random_state)\n",
    "        \n",
    "        # Create subsets using the split indices\n",
    "        train_data = torch.utils.data.Subset(self, train_indices)\n",
    "        test_data = torch.utils.data.Subset(self, test_indices)\n",
    "        \n",
    "        return train_data, test_data"
   ],
   "outputs": [],
   "execution_count": 22
  },
  {
   "cell_type": "code",
   "metadata": {
    "ExecuteTime": {
     "end_time": "2024-11-20T16:29:02.340790Z",
     "start_time": "2024-11-20T16:29:02.286468Z"
    }
   },
   "source": [
    "# Load the data from the json(s)\n",
    "data_dir = 'CatA_Simple'\n",
    "data = MorphologyDataset(data_dir)\n",
    "\n",
    "# Split the data using the defined method\n",
    "train_data, test_data = data.split_dataset()\n",
    "\n",
    "train_loader = DataLoader(train_data, batch_size=BATCH_SIZE, shuffle=True)\n",
    "test_loader = DataLoader(test_data, batch_size=BATCH_SIZE, shuffle=True)\n"
   ],
   "outputs": [],
   "execution_count": 23
  },
  {
   "cell_type": "markdown",
   "metadata": {},
   "source": [
    "<h1>Modeling</h1>\n",
    "\n",
    "---"
   ]
  },
  {
   "cell_type": "code",
   "metadata": {
    "ExecuteTime": {
     "end_time": "2024-11-20T16:29:02.353958Z",
     "start_time": "2024-11-20T16:29:02.347608Z"
    }
   },
   "source": [
    "# Model Definition\n",
    "class MorphologyCNN(nn.Module):\n",
    "    def __init__(self, img_size, num_se, seq_length=4):\n",
    "        super(MorphologyCNN, self).__init__()\n",
    "        self.img_size = img_size\n",
    "        self.num_se = num_se\n",
    "        self.seq_length = seq_length\n",
    "\n",
    "        # Feature extraction layers\n",
    "        self.features = nn.Sequential(\n",
    "            nn.Conv2d(2, 16, kernel_size=3, padding=1),\n",
    "            nn.ReLU(),\n",
    "            nn.MaxPool2d(2),\n",
    "            nn.Conv2d(16, 32, kernel_size=3, padding=1),\n",
    "            nn.ReLU(),\n",
    "            nn.MaxPool2d(2),\n",
    "            nn.Conv2d(32, 64, kernel_size=3, padding=1),\n",
    "            nn.ReLU(),\n",
    "            nn.MaxPool2d(2),\n",
    "        )\n",
    "\n",
    "        # Classifier layers\n",
    "        flattened_size = (img_size // 8) * (img_size // 8) * 64\n",
    "        self.classifier = nn.Sequential(\n",
    "            nn.Flatten(),\n",
    "            nn.Linear(flattened_size, 256),\n",
    "            nn.ReLU(),\n",
    "            nn.Linear(256, num_se * seq_length),\n",
    "        )\n",
    "\n",
    "    def forward(self, x):\n",
    "        x = self.features(x)\n",
    "        x = self.classifier(x)\n",
    "        return x.view(-1, self.seq_length, self.num_se)\n",
    "\n",
    "# Training Loop\n",
    "def train_model(model, dataloader, optimizer, criterion, epochs=10):\n",
    "    losses = []\n",
    "    model.train()\n",
    "    for epoch in range(epochs):\n",
    "        total_loss = 0\n",
    "        for x, y in dataloader:\n",
    "            x, y = x.to(device), y.to(device)\n",
    "\n",
    "            optimizer.zero_grad()\n",
    "            output = model(x)\n",
    "\n",
    "            # Compute loss for each step in the sequence\n",
    "            loss = 0\n",
    "            for step in range(SEQ_LENGTH):\n",
    "                loss += criterion(output[:, step, :], y[:, step])\n",
    "            loss /= SEQ_LENGTH\n",
    "\n",
    "            loss.backward()\n",
    "            optimizer.step()\n",
    "            total_loss += loss.item()\n",
    "\n",
    "        losses.append(total_loss)\n",
    "        print(f\"Epoch {epoch + 1}/{epochs}, Loss: {total_loss:.4f}\")\n",
    "\n",
    "    return losses\n"
   ],
   "outputs": [],
   "execution_count": 24
  },
  {
   "cell_type": "code",
   "metadata": {
    "ExecuteTime": {
     "end_time": "2024-11-20T16:29:02.365613Z",
     "start_time": "2024-11-20T16:29:02.361173Z"
    }
   },
   "source": [
    "# Model, Optimizer, Loss\n",
    "model = MorphologyCNN(img_size=IMG_SIZE, num_se=NUM_SE).to(device)\n",
    "optimizer = optim.Adam(model.parameters(), lr=LEARNING_RATE)\n",
    "criterion = nn.CrossEntropyLoss()\n"
   ],
   "outputs": [],
   "execution_count": 25
  },
  {
   "cell_type": "code",
   "metadata": {
    "ExecuteTime": {
     "end_time": "2024-11-20T16:29:05.636569Z",
     "start_time": "2024-11-20T16:29:02.374162Z"
    }
   },
   "source": [
    "# Train the Model\n",
    "history = train_model(model, train_loader, optimizer, criterion, epochs=EPOCHS)\n"
   ],
   "outputs": [
    {
     "name": "stdout",
     "output_type": "stream",
     "text": [
      "Epoch 1/50, Loss: 41.4045\n",
      "Epoch 2/50, Loss: 41.0102\n",
      "Epoch 3/50, Loss: 40.8860\n",
      "Epoch 4/50, Loss: 40.7127\n",
      "Epoch 5/50, Loss: 40.3865\n",
      "Epoch 6/50, Loss: 39.7078\n",
      "Epoch 7/50, Loss: 38.6225\n",
      "Epoch 8/50, Loss: 37.9253\n",
      "Epoch 9/50, Loss: 36.9049\n",
      "Epoch 10/50, Loss: 36.0372\n",
      "Epoch 11/50, Loss: 35.1825\n",
      "Epoch 12/50, Loss: 33.9091\n",
      "Epoch 13/50, Loss: 32.8650\n",
      "Epoch 14/50, Loss: 31.6022\n",
      "Epoch 15/50, Loss: 30.5116\n",
      "Epoch 16/50, Loss: 28.7594\n",
      "Epoch 17/50, Loss: 27.8997\n",
      "Epoch 18/50, Loss: 26.4822\n",
      "Epoch 19/50, Loss: 25.1892\n",
      "Epoch 20/50, Loss: 24.0742\n",
      "Epoch 21/50, Loss: 22.4312\n",
      "Epoch 22/50, Loss: 21.0909\n",
      "Epoch 23/50, Loss: 20.0840\n",
      "Epoch 24/50, Loss: 18.6760\n",
      "Epoch 25/50, Loss: 17.1306\n",
      "Epoch 26/50, Loss: 16.0386\n",
      "Epoch 27/50, Loss: 14.6637\n",
      "Epoch 28/50, Loss: 13.3349\n",
      "Epoch 29/50, Loss: 12.5490\n",
      "Epoch 30/50, Loss: 11.7368\n",
      "Epoch 31/50, Loss: 10.7298\n",
      "Epoch 32/50, Loss: 9.5434\n",
      "Epoch 33/50, Loss: 8.6039\n",
      "Epoch 34/50, Loss: 7.6442\n",
      "Epoch 35/50, Loss: 6.6212\n",
      "Epoch 36/50, Loss: 6.2658\n",
      "Epoch 37/50, Loss: 5.2866\n",
      "Epoch 38/50, Loss: 4.4940\n",
      "Epoch 39/50, Loss: 4.1595\n",
      "Epoch 40/50, Loss: 3.7552\n",
      "Epoch 41/50, Loss: 2.8314\n",
      "Epoch 42/50, Loss: 2.4096\n",
      "Epoch 43/50, Loss: 2.0922\n",
      "Epoch 44/50, Loss: 1.6973\n",
      "Epoch 45/50, Loss: 1.3620\n",
      "Epoch 46/50, Loss: 1.1967\n",
      "Epoch 47/50, Loss: 0.9845\n",
      "Epoch 48/50, Loss: 0.8865\n",
      "Epoch 49/50, Loss: 0.7743\n",
      "Epoch 50/50, Loss: 0.6003\n"
     ]
    }
   ],
   "execution_count": 26
  },
  {
   "cell_type": "code",
   "metadata": {
    "ExecuteTime": {
     "end_time": "2024-11-20T16:29:05.774662Z",
     "start_time": "2024-11-20T16:29:05.644062Z"
    }
   },
   "source": [
    "sns.lineplot(history)\n",
    "plt.title(\"Loss over Epochs\")\n",
    "plt.show()"
   ],
   "outputs": [
    {
     "data": {
      "text/plain": [
       "<Figure size 640x480 with 1 Axes>"
      ],
      "image/png": "[encoded data removed]"
     },
     "metadata": {},
     "output_type": "display_data"
    }
   ],
   "execution_count": 27
  },
  {
   "cell_type": "markdown",
   "metadata": {},
   "source": [
    "50 Epochs seems like a good stopping point for the training as the loss start to settle around that point. "
   ]
  },
  {
   "cell_type": "code",
   "metadata": {
    "ExecuteTime": {
     "end_time": "2024-11-20T16:29:05.788428Z",
     "start_time": "2024-11-20T16:29:05.782037Z"
    }
   },
   "source": [
    "torch.save(model, 'model.pth')"
   ],
   "outputs": [],
   "execution_count": 28
  },
  {
   "cell_type": "markdown",
   "metadata": {},
   "source": [
    "<h1 align=center>Evaluation</h1>\n",
    "\n",
    "---"
   ]
  },
  {
   "cell_type": "code",
   "metadata": {
    "ExecuteTime": {
     "end_time": "2024-11-20T16:29:05.801400Z",
     "start_time": "2024-11-20T16:29:05.796008Z"
    }
   },
   "source": [
    "# Refine the evaluation function logic for multi-class classification and compatibility\n",
    "def evaluate_model_refined(model, test_loader, criterion, device):\n",
    "    \"\"\"\n",
    "    Evaluates the model on the test dataset.\n",
    "\n",
    "    :param model: The trained model.\n",
    "    :param test_loader: The DataLoader for the test dataset.\n",
    "    :param criterion: The loss function used during training.\n",
    "    :param device: The device to run the model on ('cuda' for GPU, 'cpu' for CPU).\n",
    "    :return: The average loss and accuracy over the test set.\n",
    "    \"\"\"\n",
    "    model.eval()  # Set the model to evaluation mode\n",
    "    test_loss = 0.0\n",
    "    correct = 0\n",
    "    total = 0\n",
    "\n",
    "    with torch.no_grad():  # No need to track gradients during evaluation\n",
    "        for inputs, labels in test_loader:\n",
    "\n",
    "            inputs, labels = inputs.to(device), labels.to(device)\n",
    "\n",
    "\n",
    "            outputs = model(inputs)\n",
    "\n",
    "\n",
    "            loss = 0\n",
    "            for step in range(outputs.shape[1]):\n",
    "                loss += criterion(outputs[:, step, :], labels[:, step])\n",
    "            test_loss += loss.item()\n",
    "\n",
    "\n",
    "            predictions = torch.argmax(outputs, dim=2)\n",
    "            correct += (predictions == labels).sum().item()\n",
    "            total += labels.numel()\n",
    "\n",
    "    # Average loss and overall accuracy\n",
    "    avg_loss = test_loss / len(test_loader)\n",
    "    accuracy = (correct / total) * 100\n",
    "\n",
    "\n",
    "    print(\"Model Evaluation Results\".center(50, \"=\"))\n",
    "    print(f\"Average Loss: {avg_loss:.4f}\")\n",
    "    print(f\"Accuracy: {accuracy:.2f}%\")\n",
    "    print(\"=\" * 50)\n",
    "\n",
    "\n"
   ],
   "outputs": [],
   "execution_count": 29
  },
  {
   "cell_type": "code",
   "metadata": {
    "ExecuteTime": {
     "end_time": "2024-11-20T16:29:05.824335Z",
     "start_time": "2024-11-20T16:29:05.811288Z"
    }
   },
   "source": [
    "evaluate_model_refined(model, test_loader, criterion, device)"
   ],
   "outputs": [
    {
     "name": "stdout",
     "output_type": "stream",
     "text": [
      "=============Model Evaluation Results=============\n",
      "Average Loss: 25.5379\n",
      "Accuracy: 25.31%\n",
      "==================================================\n"
     ]
    }
   ],
   "execution_count": 30
  },
  {
   "cell_type": "markdown",
   "metadata": {},
   "source": [
    "To use the saved weights use the following code:\n",
    "\n",
    "```\n",
    "model = torch.load('path/to/weights.pth')\n",
    "```"
   ]
  },
  {
   "cell_type": "markdown",
   "metadata": {},
   "source": [
    "---\n",
    "\n",
    "<h1 align=center>END</h1>"
   ]
  }
 ],
 "metadata": {
  "kernelspec": {
   "display_name": "DL2",
   "language": "python",
   "name": "python3"
  },
  "language_info": {
   "codemirror_mode": {
    "name": "ipython",
    "version": 3
   },
   "file_extension": ".py",
   "mimetype": "text/x-python",
   "name": "python",
   "nbconvert_exporter": "python",
   "pygments_lexer": "ipython3",
   "version": "3.10.12"
  }
 },
 "nbformat": 4,
 "nbformat_minor": 2
}
