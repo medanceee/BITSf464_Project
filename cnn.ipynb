{
 "cells": [
  {
   "cell_type": "markdown",
   "metadata": {},
   "source": [
    "<h1>Linear vs Deep Learning Model</h1>"
   ]
  },
  {
   "cell_type": "code",
   "metadata": {
    "ExecuteTime": {
     "end_time": "2024-11-20T07:24:53.764925Z",
     "start_time": "2024-11-20T07:24:53.760714Z"
    }
   },
   "source": [
    "import os #type: ignore\n",
    "import json #type: ignore\n",
    "import torch #type: ignore\n",
    "import numpy as np #type: ignore\n",
    "import torch.nn as nn #type: ignore\n",
    "import seaborn as sns #type: ignore\n",
    "import torch.optim as optim #type: ignore\n",
    "import matplotlib.pyplot as plt #type: ignore\n",
    "\n",
    "from icecream import ic #type: ignore\n",
    "from torch.utils.data import Dataset, DataLoader #type: ignore\n",
    "from sklearn.model_selection import train_test_split #type: ignore\n",
    "\n",
    "# choose the device to use for training: (cuda for nvidia GPU)\n",
    "device = 'cpu'\n",
    "\n",
    "# Hyperparameters\n",
    "IMG_SIZE = 15\n",
    "NUM_SE = 8\n",
    "BATCH_SIZE = 16\n",
    "EPOCHS= 50\n",
    "SEQ_LENGTH = 4\n",
    "LEARNING_RATE = 0.001\n"
   ],
   "outputs": [],
   "execution_count": 61
  },
  {
   "cell_type": "markdown",
   "metadata": {},
   "source": [
    "<h1>Data</h1>\n",
    "\n",
    "---"
   ]
  },
  {
   "cell_type": "code",
   "metadata": {
    "ExecuteTime": {
     "end_time": "2024-11-20T07:24:53.776707Z",
     "start_time": "2024-11-20T07:24:53.770056Z"
    }
   },
   "source": [
    "# Dataset Class\n",
    "class MorphologyDataset(torch.utils.data.Dataset):\n",
    "    def __init__(self, data_dir):\n",
    "        self.data = []\n",
    "        self.labels = []\n",
    "        self.load_data(data_dir)\n",
    "\n",
    "    def load_data(self, data_dir):\n",
    "        for fname in os.listdir(data_dir):\n",
    "            if fname.endswith(\".json\"):\n",
    "                with open(os.path.join(data_dir, fname), 'r') as f:\n",
    "                    task_data = json.load(f)\n",
    "                with open(os.path.join(data_dir, fname.replace(\".json\", \"_soln.txt\")), 'r') as f:\n",
    "                    lines = f.readlines()\n",
    "                labels = [int(line.split(\"SE\")[-1]) - 1 for line in lines[:4]]  # Only the first 4 for dilation/erosion order\n",
    "                for pair in task_data:\n",
    "                    inp = np.array(pair['input'])\n",
    "                    out = np.array(pair['output'])\n",
    "                    self.data.append(np.stack([inp, out], axis=0))  # Stack input-output pair as channels\n",
    "                    self.labels.append(labels)\n",
    "\n",
    "    def __len__(self):\n",
    "        return len(self.data)\n",
    "\n",
    "    def __getitem__(self, idx):\n",
    "        x = self.data[idx].astype(np.float32)\n",
    "        y = np.array(self.labels[idx]).astype(np.int64)  # Sequence of SE indices\n",
    "        return torch.tensor(x), torch.tensor(y)\n",
    "\n",
    "    def split_dataset(self, test_size=0.2, random_state=None):\n",
    "        \"\"\"\n",
    "        Split the dataset into training and testing sets.\n",
    "        \n",
    "        :param test_size: Fraction of the dataset to be used as the test set.\n",
    "        :param random_state: Random seed for reproducibility.\n",
    "        :return: Training and Testing Dataset objects.\n",
    "        \"\"\"\n",
    "        # Use sklearn's train_test_split to split the indices\n",
    "        indices = np.arange(len(self.data))\n",
    "        train_indices, test_indices = train_test_split(indices, test_size=test_size, random_state=random_state)\n",
    "        \n",
    "        # Create subsets using the split indices\n",
    "        train_data = torch.utils.data.Subset(self, train_indices)\n",
    "        test_data = torch.utils.data.Subset(self, test_indices)\n",
    "        \n",
    "        return train_data, test_data"
   ],
   "outputs": [],
   "execution_count": 62
  },
  {
   "cell_type": "code",
   "metadata": {
    "ExecuteTime": {
     "end_time": "2024-11-20T07:24:53.841511Z",
     "start_time": "2024-11-20T07:24:53.785230Z"
    }
   },
   "source": [
    "# Load the data from the json(s)\n",
    "data_dir = 'CatA_Simple'\n",
    "data = MorphologyDataset(data_dir)\n",
    "\n",
    "# Split the data using the defined method\n",
    "train_data, test_data = data.split_dataset()\n",
    "\n",
    "train_loader = DataLoader(train_data, batch_size=BATCH_SIZE, shuffle=True)\n",
    "test_loader = DataLoader(test_data, batch_size=BATCH_SIZE, shuffle=True)\n"
   ],
   "outputs": [],
   "execution_count": 63
  },
  {
   "cell_type": "markdown",
   "metadata": {},
   "source": [
    "<h1>Modeling</h1>\n",
    "\n",
    "---"
   ]
  },
  {
   "cell_type": "code",
   "metadata": {
    "ExecuteTime": {
     "end_time": "2024-11-20T07:24:53.855791Z",
     "start_time": "2024-11-20T07:24:53.848851Z"
    }
   },
   "source": [
    "# Model Definition\n",
    "class MorphologyCNN(nn.Module):\n",
    "    def __init__(self, img_size, num_se, seq_length=4):\n",
    "        super(MorphologyCNN, self).__init__()\n",
    "        self.img_size = img_size\n",
    "        self.num_se = num_se\n",
    "        self.seq_length = seq_length\n",
    "\n",
    "        # Feature extraction layers\n",
    "        self.features = nn.Sequential(\n",
    "            nn.Conv2d(2, 16, kernel_size=3, padding=1),  # Input channels = 2 (input and output images)\n",
    "            nn.ReLU(),\n",
    "            nn.MaxPool2d(2),\n",
    "            nn.Conv2d(16, 32, kernel_size=3, padding=1),\n",
    "            nn.ReLU(),\n",
    "            nn.MaxPool2d(2),\n",
    "            nn.Conv2d(32, 64, kernel_size=3, padding=1),\n",
    "            nn.ReLU(),\n",
    "            nn.MaxPool2d(2),\n",
    "        )\n",
    "\n",
    "        # Classifier layers\n",
    "        flattened_size = (img_size // 8) * (img_size // 8) * 64  # Calculate flattened feature map size\n",
    "        self.classifier = nn.Sequential(\n",
    "            nn.Flatten(),\n",
    "            nn.Linear(flattened_size, 256),\n",
    "            nn.ReLU(),\n",
    "            nn.Linear(256, num_se * seq_length),  # Output size = num_se * seq_length\n",
    "        )\n",
    "\n",
    "    def forward(self, x):\n",
    "        x = self.features(x)\n",
    "        x = self.classifier(x)\n",
    "        return x.view(-1, self.seq_length, self.num_se)  # Reshape to [batch_size, seq_length, num_se]\n",
    "\n",
    "# Training Loop\n",
    "def train_model(model, dataloader, optimizer, criterion, epochs=10):\n",
    "    losses = []\n",
    "    model.train()\n",
    "    for epoch in range(epochs):\n",
    "        total_loss = 0\n",
    "        for x, y in dataloader:\n",
    "            x, y = x.to(device), y.to(device)  # y shape: [batch_size, seq_length]\n",
    "\n",
    "            optimizer.zero_grad()\n",
    "            output = model(x)  # output shape: [batch_size, seq_length, num_se]\n",
    "\n",
    "            # Compute loss for each step in the sequence\n",
    "            loss = 0\n",
    "            for step in range(SEQ_LENGTH):\n",
    "                loss += criterion(output[:, step, :], y[:, step])  # Loss for each structuring element\n",
    "            loss /= SEQ_LENGTH  # Average loss across the sequence\n",
    "\n",
    "            loss.backward()\n",
    "            optimizer.step()\n",
    "            total_loss += loss.item()\n",
    "\n",
    "        losses.append(total_loss)\n",
    "        print(f\"Epoch {epoch + 1}/{epochs}, Loss: {total_loss:.4f}\")\n",
    "\n",
    "    return losses\n"
   ],
   "outputs": [],
   "execution_count": 64
  },
  {
   "cell_type": "code",
   "metadata": {
    "ExecuteTime": {
     "end_time": "2024-11-20T07:24:53.869123Z",
     "start_time": "2024-11-20T07:24:53.863422Z"
    }
   },
   "source": [
    "# Model, Optimizer, Loss\n",
    "model = MorphologyCNN(img_size=IMG_SIZE, num_se=NUM_SE).to(device)\n",
    "optimizer = optim.Adam(model.parameters(), lr=LEARNING_RATE)\n",
    "criterion = nn.CrossEntropyLoss()\n"
   ],
   "outputs": [],
   "execution_count": 65
  },
  {
   "cell_type": "code",
   "metadata": {
    "ExecuteTime": {
     "end_time": "2024-11-20T07:24:57.811392Z",
     "start_time": "2024-11-20T07:24:53.877084Z"
    }
   },
   "source": [
    "# Train the Model\n",
    "history = train_model(model, train_loader, optimizer, criterion, epochs=EPOCHS)\n"
   ],
   "outputs": [
    {
     "name": "stdout",
     "output_type": "stream",
     "text": [
      "Epoch 1/50, Loss: 41.4300\n",
      "Epoch 2/50, Loss: 40.9463\n",
      "Epoch 3/50, Loss: 40.8108\n",
      "Epoch 4/50, Loss: 40.7762\n",
      "Epoch 5/50, Loss: 40.7073\n",
      "Epoch 6/50, Loss: 40.5759\n",
      "Epoch 7/50, Loss: 40.4211\n",
      "Epoch 8/50, Loss: 40.0747\n",
      "Epoch 9/50, Loss: 39.3550\n",
      "Epoch 10/50, Loss: 38.4437\n",
      "Epoch 11/50, Loss: 37.0488\n",
      "Epoch 12/50, Loss: 36.4743\n",
      "Epoch 13/50, Loss: 34.5526\n",
      "Epoch 14/50, Loss: 33.6403\n",
      "Epoch 15/50, Loss: 32.4019\n",
      "Epoch 16/50, Loss: 31.1635\n",
      "Epoch 17/50, Loss: 30.2027\n",
      "Epoch 18/50, Loss: 29.1252\n",
      "Epoch 19/50, Loss: 28.4437\n",
      "Epoch 20/50, Loss: 27.1897\n",
      "Epoch 21/50, Loss: 26.1897\n",
      "Epoch 22/50, Loss: 25.2772\n",
      "Epoch 23/50, Loss: 24.3942\n",
      "Epoch 24/50, Loss: 23.1981\n",
      "Epoch 25/50, Loss: 21.9048\n",
      "Epoch 26/50, Loss: 20.4010\n",
      "Epoch 27/50, Loss: 20.5847\n",
      "Epoch 28/50, Loss: 18.5068\n",
      "Epoch 29/50, Loss: 17.9240\n",
      "Epoch 30/50, Loss: 16.5280\n",
      "Epoch 31/50, Loss: 15.4219\n",
      "Epoch 32/50, Loss: 14.2482\n",
      "Epoch 33/50, Loss: 13.0167\n",
      "Epoch 34/50, Loss: 11.9272\n",
      "Epoch 35/50, Loss: 11.0753\n",
      "Epoch 36/50, Loss: 9.7752\n",
      "Epoch 37/50, Loss: 10.1212\n",
      "Epoch 38/50, Loss: 8.4026\n",
      "Epoch 39/50, Loss: 7.4149\n",
      "Epoch 40/50, Loss: 6.4659\n",
      "Epoch 41/50, Loss: 6.3086\n",
      "Epoch 42/50, Loss: 5.6269\n",
      "Epoch 43/50, Loss: 5.0757\n",
      "Epoch 44/50, Loss: 4.1101\n",
      "Epoch 45/50, Loss: 3.6266\n",
      "Epoch 46/50, Loss: 3.2164\n",
      "Epoch 47/50, Loss: 3.0030\n",
      "Epoch 48/50, Loss: 2.5383\n",
      "Epoch 49/50, Loss: 2.0605\n",
      "Epoch 50/50, Loss: 1.9140\n"
     ]
    }
   ],
   "execution_count": 66
  },
  {
   "cell_type": "code",
   "metadata": {
    "ExecuteTime": {
     "end_time": "2024-11-20T07:24:57.983540Z",
     "start_time": "2024-11-20T07:24:57.820438Z"
    }
   },
   "source": [
    "sns.lineplot(history)\n",
    "plt.title(\"Loss over Epochs\")\n",
    "plt.show()"
   ],
   "outputs": [
    {
     "data": {
      "text/plain": [
       "<Figure size 640x480 with 1 Axes>"
      ],
      "image/png": "[encoded data removed]"
     },
     "metadata": {},
     "output_type": "display_data"
    }
   ],
   "execution_count": 67
  },
  {
   "cell_type": "markdown",
   "metadata": {},
   "source": [
    "50 Epochs seems like a good stopping point for the training as the loss start to settle around that point. "
   ]
  },
  {
   "cell_type": "code",
   "metadata": {
    "ExecuteTime": {
     "end_time": "2024-11-20T07:24:58.000015Z",
     "start_time": "2024-11-20T07:24:57.992280Z"
    }
   },
   "source": [
    "torch.save(model, 'model.pth')"
   ],
   "outputs": [],
   "execution_count": 68
  },
  {
   "cell_type": "markdown",
   "metadata": {},
   "source": [
    "<h1 align=center>Evaluation</h1>\n",
    "\n",
    "---"
   ]
  },
  {
   "cell_type": "code",
   "metadata": {
    "ExecuteTime": {
     "end_time": "2024-11-20T07:24:58.016222Z",
     "start_time": "2024-11-20T07:24:58.010073Z"
    }
   },
   "source": [
    "# Refine the evaluation function logic for multi-class classification and compatibility\n",
    "def evaluate_model_refined(model, test_loader, criterion, device):\n",
    "    \"\"\"\n",
    "    Evaluates the model on the test dataset.\n",
    "\n",
    "    :param model: The trained model.\n",
    "    :param test_loader: The DataLoader for the test dataset.\n",
    "    :param criterion: The loss function used during training.\n",
    "    :param device: The device to run the model on ('cuda' for GPU, 'cpu' for CPU).\n",
    "    :return: The average loss and accuracy over the test set.\n",
    "    \"\"\"\n",
    "    model.eval()  # Set the model to evaluation mode\n",
    "    test_loss = 0.0\n",
    "    correct = 0\n",
    "    total = 0\n",
    "\n",
    "    with torch.no_grad():  # No need to track gradients during evaluation\n",
    "        for inputs, labels in test_loader:\n",
    "            # Move data to the appropriate device\n",
    "            inputs, labels = inputs.to(device), labels.to(device)\n",
    "\n",
    "            # Forward pass\n",
    "            outputs = model(inputs)  # Outputs: [batch_size, seq_length, num_se]\n",
    "\n",
    "            # Compute loss\n",
    "            loss = 0\n",
    "            for step in range(outputs.shape[1]):\n",
    "                loss += criterion(outputs[:, step, :], labels[:, step])  # Cross-entropy loss per step\n",
    "            test_loss += loss.item()\n",
    "\n",
    "            # Compute predictions and accuracy\n",
    "            predictions = torch.argmax(outputs, dim=2)  # [batch_size, seq_length]\n",
    "            correct += (predictions == labels).sum().item()  # Element-wise comparison\n",
    "            total += labels.numel()  # Total number of elements\n",
    "\n",
    "    # Average loss and overall accuracy\n",
    "    avg_loss = test_loss / len(test_loader)\n",
    "    accuracy = (correct / total) * 100\n",
    "\n",
    "    # Beautified output\n",
    "    print(\"Model Evaluation Results\".center(50, \"=\"))\n",
    "    print(f\"Average Loss: {avg_loss:.4f}\")\n",
    "    print(f\"Accuracy: {accuracy:.2f}%\")\n",
    "    print(\"=\" * 50)\n",
    "\n",
    "# Suggested integration: Replace original evaluation logic with `evaluate_model_refined`.\n"
   ],
   "outputs": [],
   "execution_count": 69
  },
  {
   "cell_type": "code",
   "metadata": {
    "ExecuteTime": {
     "end_time": "2024-11-20T07:24:58.039923Z",
     "start_time": "2024-11-20T07:24:58.025763Z"
    }
   },
   "source": [
    "evaluate_model_refined(model, test_loader, criterion, device)"
   ],
   "outputs": [
    {
     "name": "stdout",
     "output_type": "stream",
     "text": [
      "=============Model Evaluation Results=============\n",
      "Average Loss: 19.7545\n",
      "Accuracy: 25.62%\n",
      "==================================================\n"
     ]
    }
   ],
   "execution_count": 70
  },
  {
   "cell_type": "markdown",
   "metadata": {},
   "source": [
    "To use the saved weights use the following code:\n",
    "\n",
    "```\n",
    "model = torch.load('path/to/weights.pth')\n",
    "```"
   ]
  },
  {
   "cell_type": "markdown",
   "metadata": {},
   "source": [
    "---\n",
    "\n",
    "<h1 align=center>END</h1>"
   ]
  }
 ],
 "metadata": {
  "kernelspec": {
   "display_name": "DL2",
   "language": "python",
   "name": "python3"
  },
  "language_info": {
   "codemirror_mode": {
    "name": "ipython",
    "version": 3
   },
   "file_extension": ".py",
   "mimetype": "text/x-python",
   "name": "python",
   "nbconvert_exporter": "python",
   "pygments_lexer": "ipython3",
   "version": "3.10.12"
  }
 },
 "nbformat": 4,
 "nbformat_minor": 2
}
